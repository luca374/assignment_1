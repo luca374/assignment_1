{
 "cells": [
  {
   "cell_type": "code",
   "execution_count": 9,
   "metadata": {
    "scrolled": true
   },
   "outputs": [
    {
     "name": "stdout",
     "output_type": "stream",
     "text": [
      "Enter week1's total spending hours in learning English:15\n",
      "Enter week1's total spending hours in learning Coding:20\n",
      "Enter week1's total spending hours in Reading:16\n",
      "Your average learning hours in this week is 17.0.\n",
      "\n",
      "Enter week2's total spending hours in learning English:23\n",
      "Enter week2's total spending hours in learning Coding:17\n",
      "Enter week2's total spending hours in Reading:14\n",
      "Your average learning hours in this week is 18.0.\n",
      "\n",
      "Enter week3's total spending hours in learning English:19\n",
      "Enter week3's total spending hours in learning Coding:17\n",
      "Enter week3's total spending hours in Reading:25\n",
      "Your average learning hours in this week is 20.33.\n",
      "\n",
      "Enter week4's total spending hours in learning English:18\n",
      "Enter week4's total spending hours in learning Coding:24\n",
      "Enter week4's total spending hours in Reading:19\n",
      "Your average learning hours in this week is 20.33.\n",
      "\n",
      "[{'week': 'week1', 'English hours': '15', 'Coding hours': '20', 'Reading hours': '16', 'Average weekly study hours': 17.0}, {'week': 'week2', 'English hours': '23', 'Coding hours': '17', 'Reading hours': '14', 'Average weekly study hours': 18.0}, {'week': 'week3', 'English hours': '19', 'Coding hours': '17', 'Reading hours': '25', 'Average weekly study hours': 20.33}, {'week': 'week4', 'English hours': '18', 'Coding hours': '24', 'Reading hours': '19', 'Average weekly study hours': 20.33}]\n",
      "Total study hours for this month:61.0\n"
     ]
    },
    {
     "data": {
      "text/html": [
       "<div>\n",
       "<style scoped>\n",
       "    .dataframe tbody tr th:only-of-type {\n",
       "        vertical-align: middle;\n",
       "    }\n",
       "\n",
       "    .dataframe tbody tr th {\n",
       "        vertical-align: top;\n",
       "    }\n",
       "\n",
       "    .dataframe thead th {\n",
       "        text-align: right;\n",
       "    }\n",
       "</style>\n",
       "<table border=\"1\" class=\"dataframe\">\n",
       "  <thead>\n",
       "    <tr style=\"text-align: right;\">\n",
       "      <th></th>\n",
       "      <th>week</th>\n",
       "      <th>English hours</th>\n",
       "      <th>Coding hours</th>\n",
       "      <th>Reading hours</th>\n",
       "      <th>Average weekly study hours</th>\n",
       "    </tr>\n",
       "  </thead>\n",
       "  <tbody>\n",
       "    <tr>\n",
       "      <th>0</th>\n",
       "      <td>week1</td>\n",
       "      <td>15</td>\n",
       "      <td>20</td>\n",
       "      <td>16</td>\n",
       "      <td>17.00</td>\n",
       "    </tr>\n",
       "    <tr>\n",
       "      <th>1</th>\n",
       "      <td>week2</td>\n",
       "      <td>23</td>\n",
       "      <td>17</td>\n",
       "      <td>14</td>\n",
       "      <td>18.00</td>\n",
       "    </tr>\n",
       "    <tr>\n",
       "      <th>2</th>\n",
       "      <td>week3</td>\n",
       "      <td>19</td>\n",
       "      <td>17</td>\n",
       "      <td>25</td>\n",
       "      <td>20.33</td>\n",
       "    </tr>\n",
       "    <tr>\n",
       "      <th>3</th>\n",
       "      <td>week4</td>\n",
       "      <td>18</td>\n",
       "      <td>24</td>\n",
       "      <td>19</td>\n",
       "      <td>20.33</td>\n",
       "    </tr>\n",
       "  </tbody>\n",
       "</table>\n",
       "</div>"
      ],
      "text/plain": [
       "    week English hours Coding hours Reading hours  Average weekly study hours\n",
       "0  week1            15           20            16                       17.00\n",
       "1  week2            23           17            14                       18.00\n",
       "2  week3            19           17            25                       20.33\n",
       "3  week4            18           24            19                       20.33"
      ]
     },
     "execution_count": 9,
     "metadata": {},
     "output_type": "execute_result"
    }
   ],
   "source": [
    "import pandas as pd\n",
    "study_hrs=[]\n",
    "total_hrs=0\n",
    "week_of_month=['week1','week2','week3','week4']\n",
    "for i in week_of_month:\n",
    "    English=input('Enter '+i+\"'s total spending hours in learning English:\")\n",
    "    Coding=input('Enter '+i+\"'s total spending hours in learning Coding:\")\n",
    "    Reading=input('Enter '+i+\"'s total spending hours in Reading:\")\n",
    "    total_hrs=float(English)+float(Coding)+float(Reading)\n",
    "    Average=round((total_hrs/3),2)\n",
    "    study_hrs.append({'week':i,\n",
    "                      'English hours':English,\n",
    "                      'Coding hours':Coding,\n",
    "                      'Reading hours':Reading,\n",
    "                     'Average weekly study hours':Average})\n",
    "    print('Your average learning hours in this week is '+str(Average)+'.\\n')\n",
    "print(study_hrs)\n",
    "print(\"Total study hours for this month:\" + str(total_hrs))\n",
    "df=pd.DataFrame(study_hrs)\n",
    "df.to_csv('study_hrs.csv',mode='w',index=False)\n",
    "df"
   ]
  },
  {
   "cell_type": "code",
   "execution_count": 10,
   "metadata": {},
   "outputs": [
    {
     "name": "stdout",
     "output_type": "stream",
     "text": [
      "Studying hours list \n",
      " [['week1', 15, 20, 16, 17.0], ['week2', 23, 17, 14, 18.0], ['week3', 19, 17, 25, 20.33], ['week4', 18, 24, 19, 20.33]]\n",
      "English study hours: [15, 23, 19, 18] \n",
      "\n",
      "Coding study hours: [20, 17, 17, 24] \n",
      "\n",
      "Reading study hours: [16, 14, 25, 19] \n",
      "\n",
      "Average study hours: [17.0, 18.0, 20.33, 20.33] \n",
      "\n"
     ]
    },
    {
     "data": {
      "text/plain": [
       "<function matplotlib.pyplot.show(close=None, block=None)>"
      ]
     },
     "execution_count": 10,
     "metadata": {},
     "output_type": "execute_result"
    },
    {
     "data": {
      "image/png": "[encoded data removed]",
      "text/plain": [
       "<Figure size 432x288 with 1 Axes>"
      ]
     },
     "metadata": {
      "needs_background": "light"
     },
     "output_type": "display_data"
    }
   ],
   "source": [
    "import pandas as pd\n",
    "from matplotlib import pyplot as plt\n",
    "df=pd.read_csv('study_hrs.csv')\n",
    "df\n",
    "hrs_list=df.values.tolist()\n",
    "print('Studying hours list','\\n',hrs_list)\n",
    "week_of_month=[]\n",
    "English=[]\n",
    "Coding=[]\n",
    "Reading=[]\n",
    "Average=[]\n",
    "for i in hrs_list:\n",
    "    week_of_month.append(i[0])\n",
    "    English.append(i[1])\n",
    "    Coding.append(i[2])\n",
    "    Reading.append(i[3])\n",
    "    Average.append(i[4])\n",
    "print('English study hours:',English,'\\n')\n",
    "print('Coding study hours:',Coding,'\\n')\n",
    "print('Reading study hours:',Reading,'\\n')\n",
    "print('Average study hours:',Average,'\\n')\n",
    "plt.plot(week_of_month,English,color='red',marker='s')\n",
    "plt.plot(week_of_month,Coding,color='green',marker='s')\n",
    "plt.plot(week_of_month,Reading,color='purple',marker='s')\n",
    "plt.plot(week_of_month,Average,color='blue',marker='s')\n",
    "plt.legend(['English','Coding','Reading','Average'])\n",
    "plt.xlabel('Week of the month')\n",
    "plt.ylabel('Hours')\n",
    "plt.title('Weekly studying progress in a month')\n",
    "plt.show"
   ]
  },
  {
   "cell_type": "code",
   "execution_count": null,
   "metadata": {},
   "outputs": [],
   "source": []
  }
 ],
 "metadata": {
  "kernelspec": {
   "display_name": "Python 3",
   "language": "python",
   "name": "python3"
  },
  "language_info": {
   "codemirror_mode": {
    "name": "ipython",
    "version": 3
   },
   "file_extension": ".py",
   "mimetype": "text/x-python",
   "name": "python",
   "nbconvert_exporter": "python",
   "pygments_lexer": "ipython3",
   "version": "3.8.5"
  }
 },
 "nbformat": 4,
 "nbformat_minor": 4
}
